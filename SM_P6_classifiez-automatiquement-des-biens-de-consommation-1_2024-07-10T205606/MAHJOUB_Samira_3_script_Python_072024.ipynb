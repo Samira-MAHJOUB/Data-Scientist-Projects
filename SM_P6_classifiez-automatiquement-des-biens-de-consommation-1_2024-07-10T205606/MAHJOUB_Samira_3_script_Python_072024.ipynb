{
 "cells": [
  {
   "cell_type": "markdown",
   "id": "469e07ad-fbee-4bb1-a2b7-e73c8536ca4b",
   "metadata": {},
   "source": [
    "# 📚 <span style='color:#0D2BA5'>**Mission - Classifiez automatiquement des biens de consommation**</span>"
   ]
  },
  {
   "cell_type": "markdown",
   "id": "5f6017fc-cf1b-4710-8262-99d375b9292f",
   "metadata": {},
   "source": [
    "### <span style='color:#0D2BA5'>**Partie 3: Collecte de produits à partir d'une API**"
   ]
  },
  {
   "cell_type": "markdown",
   "id": "92013e09-8456-412b-9e4c-620d5fce0081",
   "metadata": {},
   "source": [
    "# <font color='RoyalBlue'>1. Imports"
   ]
  },
  {
   "cell_type": "code",
   "execution_count": 5,
   "id": "2b243a37-0cfd-42bc-8e8e-7827e9bbaab1",
   "metadata": {},
   "outputs": [],
   "source": [
    "import requests\n",
    "import pandas as pd\n",
    "import json"
   ]
  },
  {
   "cell_type": "markdown",
   "id": "1a140af1-a90e-436d-9fc1-c8aa98befffa",
   "metadata": {},
   "source": [
    "# <font color='RoyalBlue'>2. Requête via l'API"
   ]
  },
  {
   "cell_type": "markdown",
   "id": "87a0ba80-b1cf-4795-9096-2ccf2d296668",
   "metadata": {},
   "source": [
    "• Récupérez la clé de l'API et reprenez l'exemple en code Python pour requêter une API.\n",
    "\n",
    "- Configurer les paramètres de la requête pour rechercher \"champagne\".\n",
    "- Extraire les informations nécessaires pour les 10 premiers produits.\n",
    "- Enregistrer les informations dans un fichier CSV."
   ]
  },
  {
   "cell_type": "markdown",
   "id": "0ff0af2b-e7de-41fc-bf91-0a8517273cbd",
   "metadata": {},
   "source": [
    "## <font color='Blue'>Script Python pour la collecte des produits"
   ]
  },
  {
   "cell_type": "code",
   "execution_count": 10,
   "id": "2aa221c9-36fb-4376-8e3b-3a708d78e988",
   "metadata": {},
   "outputs": [
    {
     "name": "stdout",
     "output_type": "stream",
     "text": [
      "Les données ont été sauvegardées dans 'champagne_products.csv'\n"
     ]
    }
   ],
   "source": [
    "# URL de l'API\n",
    "url = \"https://edamam-food-and-grocery-database.p.rapidapi.com/api/food-database/v2/parser\"\n",
    "\n",
    "# Paramètres de la requête\n",
    "querystring = {\n",
    "    \"nutrition-type\": \"cooking\",\n",
    "    \"category[0]\": \"generic-foods\",\n",
    "    \"health[0]\": \"alcohol-free\",\n",
    "    \"ingr\": \"champagne\"\n",
    "}\n",
    "\n",
    "headers = {\n",
    "    \"X-RapidAPI-Key\": \"4da9990ef8msh098527ed907bd30p1519bfjsn8555f0983ee5\",\n",
    "    \"X-RapidAPI-Host\": \"edamam-food-and-grocery-database.p.rapidapi.com\"\n",
    "}\n",
    "\n",
    "response = requests.get(url, headers=headers, params=querystring)\n",
    "\n",
    "# Condition si la requête a réussi\n",
    "if response.status_code == 200:\n",
    "    data = response.json()\n",
    "    # Extraction des informations des 10 premiers produits\n",
    "    products = data['hints'][:10]\n",
    "    product_list = []\n",
    "\n",
    "    for product in products:\n",
    "        food = product.get('food', {})\n",
    "        product_info = {\n",
    "            'foodId': food.get('foodId'),\n",
    "            'label': food.get('label'),\n",
    "            'category': food.get('category'),\n",
    "            'foodContentsLabel': food.get('foodContentsLabel'),\n",
    "            'image': food.get('image')\n",
    "        }\n",
    "        product_list.append(product_info)\n",
    "\n",
    "    df = pd.DataFrame(product_list)\n",
    "    \n",
    "    df.to_csv('champagne_products.csv', index=False)\n",
    "    print(\"Les données ont été sauvegardées dans 'champagne_products.csv'\")\n",
    "else:\n",
    "    print(f\"Erreur: {response.status_code}, {response.text}\")"
   ]
  },
  {
   "cell_type": "code",
   "execution_count": 11,
   "id": "2497c51c-63b5-497f-a624-eb4a2c74a44f",
   "metadata": {},
   "outputs": [
    {
     "data": {
      "text/html": [
       "<div>\n",
       "<style scoped>\n",
       "    .dataframe tbody tr th:only-of-type {\n",
       "        vertical-align: middle;\n",
       "    }\n",
       "\n",
       "    .dataframe tbody tr th {\n",
       "        vertical-align: top;\n",
       "    }\n",
       "\n",
       "    .dataframe thead th {\n",
       "        text-align: right;\n",
       "    }\n",
       "</style>\n",
       "<table border=\"1\" class=\"dataframe\">\n",
       "  <thead>\n",
       "    <tr style=\"text-align: right;\">\n",
       "      <th></th>\n",
       "      <th>foodId</th>\n",
       "      <th>label</th>\n",
       "      <th>category</th>\n",
       "      <th>foodContentsLabel</th>\n",
       "      <th>image</th>\n",
       "    </tr>\n",
       "  </thead>\n",
       "  <tbody>\n",
       "    <tr>\n",
       "      <th>0</th>\n",
       "      <td>food_a656mk2a5dmqb2adiamu6beihduu</td>\n",
       "      <td>Champagne</td>\n",
       "      <td>Generic foods</td>\n",
       "      <td>NaN</td>\n",
       "      <td>https://www.edamam.com/food-img/a71/a718cf3c52...</td>\n",
       "    </tr>\n",
       "    <tr>\n",
       "      <th>1</th>\n",
       "      <td>food_b753ithamdb8psbt0w2k9aquo06c</td>\n",
       "      <td>Champagne Vinaigrette, Champagne</td>\n",
       "      <td>Packaged foods</td>\n",
       "      <td>OLIVE OIL; BALSAMIC VINEGAR; CHAMPAGNE VINEGAR...</td>\n",
       "      <td>NaN</td>\n",
       "    </tr>\n",
       "    <tr>\n",
       "      <th>2</th>\n",
       "      <td>food_b3dyababjo54xobm6r8jzbghjgqe</td>\n",
       "      <td>Champagne Vinaigrette, Champagne</td>\n",
       "      <td>Packaged foods</td>\n",
       "      <td>INGREDIENTS: WATER; CANOLA OIL; CHAMPAGNE VINE...</td>\n",
       "      <td>https://www.edamam.com/food-img/d88/d88b64d973...</td>\n",
       "    </tr>\n",
       "    <tr>\n",
       "      <th>3</th>\n",
       "      <td>food_a9e0ghsamvoc45bwa2ybsa3gken9</td>\n",
       "      <td>Champagne Vinaigrette, Champagne</td>\n",
       "      <td>Packaged foods</td>\n",
       "      <td>CANOLA AND SOYBEAN OIL; WHITE WINE (CONTAINS S...</td>\n",
       "      <td>NaN</td>\n",
       "    </tr>\n",
       "    <tr>\n",
       "      <th>4</th>\n",
       "      <td>food_an4jjueaucpus2a3u1ni8auhe7q9</td>\n",
       "      <td>Champagne Vinaigrette, Champagne</td>\n",
       "      <td>Packaged foods</td>\n",
       "      <td>WATER; CANOLA AND SOYBEAN OIL; WHITE WINE (CON...</td>\n",
       "      <td>NaN</td>\n",
       "    </tr>\n",
       "    <tr>\n",
       "      <th>5</th>\n",
       "      <td>food_bmu5dmkazwuvpaa5prh1daa8jxs0</td>\n",
       "      <td>Champagne Dressing, Champagne</td>\n",
       "      <td>Packaged foods</td>\n",
       "      <td>SOYBEAN OIL; WHITE WINE (PRESERVED WITH SULFIT...</td>\n",
       "      <td>https://www.edamam.com/food-img/ab2/ab2459fc2a...</td>\n",
       "    </tr>\n",
       "    <tr>\n",
       "      <th>6</th>\n",
       "      <td>food_alpl44taoyv11ra0lic1qa8xculi</td>\n",
       "      <td>Champagne Buttercream</td>\n",
       "      <td>Generic meals</td>\n",
       "      <td>sugar; butter; shortening; vanilla; champagne;...</td>\n",
       "      <td>NaN</td>\n",
       "    </tr>\n",
       "    <tr>\n",
       "      <th>7</th>\n",
       "      <td>food_am5egz6aq3fpjlaf8xpkdbc2asis</td>\n",
       "      <td>Champagne Truffles</td>\n",
       "      <td>Generic meals</td>\n",
       "      <td>butter; cocoa; sweetened condensed milk; vanil...</td>\n",
       "      <td>NaN</td>\n",
       "    </tr>\n",
       "    <tr>\n",
       "      <th>8</th>\n",
       "      <td>food_bcz8rhiajk1fuva0vkfmeakbouc0</td>\n",
       "      <td>Champagne Vinaigrette</td>\n",
       "      <td>Generic meals</td>\n",
       "      <td>champagne vinegar; olive oil; Dijon mustard; s...</td>\n",
       "      <td>NaN</td>\n",
       "    </tr>\n",
       "    <tr>\n",
       "      <th>9</th>\n",
       "      <td>food_a79xmnya6togreaeukbroa0thhh0</td>\n",
       "      <td>Champagne Chicken</td>\n",
       "      <td>Generic meals</td>\n",
       "      <td>Flour; Salt; Pepper; Boneless, Skinless Chicke...</td>\n",
       "      <td>NaN</td>\n",
       "    </tr>\n",
       "  </tbody>\n",
       "</table>\n",
       "</div>"
      ],
      "text/plain": [
       "                              foodId                             label  \\\n",
       "0  food_a656mk2a5dmqb2adiamu6beihduu                         Champagne   \n",
       "1  food_b753ithamdb8psbt0w2k9aquo06c  Champagne Vinaigrette, Champagne   \n",
       "2  food_b3dyababjo54xobm6r8jzbghjgqe  Champagne Vinaigrette, Champagne   \n",
       "3  food_a9e0ghsamvoc45bwa2ybsa3gken9  Champagne Vinaigrette, Champagne   \n",
       "4  food_an4jjueaucpus2a3u1ni8auhe7q9  Champagne Vinaigrette, Champagne   \n",
       "5  food_bmu5dmkazwuvpaa5prh1daa8jxs0     Champagne Dressing, Champagne   \n",
       "6  food_alpl44taoyv11ra0lic1qa8xculi             Champagne Buttercream   \n",
       "7  food_am5egz6aq3fpjlaf8xpkdbc2asis                Champagne Truffles   \n",
       "8  food_bcz8rhiajk1fuva0vkfmeakbouc0             Champagne Vinaigrette   \n",
       "9  food_a79xmnya6togreaeukbroa0thhh0                 Champagne Chicken   \n",
       "\n",
       "         category                                  foodContentsLabel  \\\n",
       "0   Generic foods                                                NaN   \n",
       "1  Packaged foods  OLIVE OIL; BALSAMIC VINEGAR; CHAMPAGNE VINEGAR...   \n",
       "2  Packaged foods  INGREDIENTS: WATER; CANOLA OIL; CHAMPAGNE VINE...   \n",
       "3  Packaged foods  CANOLA AND SOYBEAN OIL; WHITE WINE (CONTAINS S...   \n",
       "4  Packaged foods  WATER; CANOLA AND SOYBEAN OIL; WHITE WINE (CON...   \n",
       "5  Packaged foods  SOYBEAN OIL; WHITE WINE (PRESERVED WITH SULFIT...   \n",
       "6   Generic meals  sugar; butter; shortening; vanilla; champagne;...   \n",
       "7   Generic meals  butter; cocoa; sweetened condensed milk; vanil...   \n",
       "8   Generic meals  champagne vinegar; olive oil; Dijon mustard; s...   \n",
       "9   Generic meals  Flour; Salt; Pepper; Boneless, Skinless Chicke...   \n",
       "\n",
       "                                               image  \n",
       "0  https://www.edamam.com/food-img/a71/a718cf3c52...  \n",
       "1                                                NaN  \n",
       "2  https://www.edamam.com/food-img/d88/d88b64d973...  \n",
       "3                                                NaN  \n",
       "4                                                NaN  \n",
       "5  https://www.edamam.com/food-img/ab2/ab2459fc2a...  \n",
       "6                                                NaN  \n",
       "7                                                NaN  \n",
       "8                                                NaN  \n",
       "9                                                NaN  "
      ]
     },
     "execution_count": 11,
     "metadata": {},
     "output_type": "execute_result"
    }
   ],
   "source": [
    "data_champ = pd.read_csv('champagne_products.csv')\n",
    "data_champ"
   ]
  },
  {
   "cell_type": "code",
   "execution_count": 12,
   "id": "b271395b-7ac9-4c0e-8256-201236a8b3b9",
   "metadata": {},
   "outputs": [
    {
     "name": "stdout",
     "output_type": "stream",
     "text": [
      "<class 'pandas.core.frame.DataFrame'>\n",
      "RangeIndex: 10 entries, 0 to 9\n",
      "Data columns (total 5 columns):\n",
      " #   Column             Non-Null Count  Dtype \n",
      "---  ------             --------------  ----- \n",
      " 0   foodId             10 non-null     object\n",
      " 1   label              10 non-null     object\n",
      " 2   category           10 non-null     object\n",
      " 3   foodContentsLabel  9 non-null      object\n",
      " 4   image              3 non-null      object\n",
      "dtypes: object(5)\n",
      "memory usage: 532.0+ bytes\n"
     ]
    }
   ],
   "source": [
    "data_champ.info()"
   ]
  },
  {
   "cell_type": "code",
   "execution_count": 13,
   "id": "992f25fd-4ac5-438a-b956-4fcbf3a4f24b",
   "metadata": {},
   "outputs": [
    {
     "name": "stdout",
     "output_type": "stream",
     "text": [
      "['https://www.edamam.com/food-img/a71/a718cf3c52add522128929f1f324d2ab.jpg'\n",
      " nan\n",
      " 'https://www.edamam.com/food-img/d88/d88b64d97349ed062368972113124e35.jpg'\n",
      " 'https://www.edamam.com/food-img/ab2/ab2459fc2a98cd35f68b848be2337ecb.jpg']\n"
     ]
    }
   ],
   "source": [
    "print(data_champ[\"image\"].unique())"
   ]
  },
  {
   "cell_type": "code",
   "execution_count": null,
   "id": "b0afb90e-5b2e-4727-87d3-c8f09d15a64b",
   "metadata": {},
   "outputs": [],
   "source": []
  }
 ],
 "metadata": {
  "kernelspec": {
   "display_name": "Python 3 (ipykernel)",
   "language": "python",
   "name": "python3"
  },
  "language_info": {
   "codemirror_mode": {
    "name": "ipython",
    "version": 3
   },
   "file_extension": ".py",
   "mimetype": "text/x-python",
   "name": "python",
   "nbconvert_exporter": "python",
   "pygments_lexer": "ipython3",
   "version": "3.11.7"
  }
 },
 "nbformat": 4,
 "nbformat_minor": 5
}
