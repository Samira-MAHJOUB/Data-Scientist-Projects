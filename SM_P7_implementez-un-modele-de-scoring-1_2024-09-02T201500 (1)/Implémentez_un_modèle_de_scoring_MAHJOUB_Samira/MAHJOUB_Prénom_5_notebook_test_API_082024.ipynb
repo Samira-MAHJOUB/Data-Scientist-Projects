{
 "cells": [
  {
   "cell_type": "markdown",
   "id": "425bc147-8410-44e3-a62a-50c0443e04c0",
   "metadata": {},
   "source": [
    "**Objectif : Le présent notebook servira à démontrer comment tester l'API que nous avons déployée**"
   ]
  },
  {
   "cell_type": "markdown",
   "id": "974ebc5e-6a49-481d-a507-2781bf58757f",
   "metadata": {},
   "source": [
    "## <font color='Blue'> **Partie 1 : Création de l'Application Streamlit en Local**"
   ]
  },
  {
   "cell_type": "markdown",
   "id": "3da24897-a95c-479a-a99e-e020db006e05",
   "metadata": {},
   "source": [
    "### <font color='RoyalBlue'> 1. Import de librairies necessaires"
   ]
  },
  {
   "cell_type": "code",
   "execution_count": 67,
   "id": "d540db72-08cf-4e5b-ae0c-907e1b0d99d7",
   "metadata": {},
   "outputs": [],
   "source": [
    "import os\n",
    "import joblib\n",
    "import streamlit as st"
   ]
  },
  {
   "cell_type": "markdown",
   "id": "ceff50fb-d480-4996-8486-29ac43bc6431",
   "metadata": {},
   "source": [
    "### <font color='RoyalBlue'> 2. Écrire le Code pour l'Application Streamlit en Local"
   ]
  },
  {
   "cell_type": "markdown",
   "id": "ed751235-706b-4d9f-859c-f0e661e90855",
   "metadata": {},
   "source": [
    "**Crée un fichier Python, par exemple app_local.py, avec le code suivant :**"
   ]
  },
  {
   "cell_type": "code",
   "execution_count": 71,
   "id": "b7911e1d-ba42-4a62-833b-aabf7e29c5e0",
   "metadata": {},
   "outputs": [
    {
     "name": "stderr",
     "output_type": "stream",
     "text": [
      "2024-09-01 13:51:28.931 Thread 'MainThread': missing ScriptRunContext! This warning can be ignored when running in bare mode.\n",
      "2024-09-01 13:51:28.933 Thread 'MainThread': missing ScriptRunContext! This warning can be ignored when running in bare mode.\n",
      "2024-09-01 13:51:28.937 Thread 'MainThread': missing ScriptRunContext! This warning can be ignored when running in bare mode.\n",
      "2024-09-01 13:51:28.938 Thread 'MainThread': missing ScriptRunContext! This warning can be ignored when running in bare mode.\n",
      "2024-09-01 13:51:28.940 Thread 'MainThread': missing ScriptRunContext! This warning can be ignored when running in bare mode.\n",
      "2024-09-01 13:51:28.941 Thread 'MainThread': missing ScriptRunContext! This warning can be ignored when running in bare mode.\n",
      "2024-09-01 13:51:28.946 Thread 'MainThread': missing ScriptRunContext! This warning can be ignored when running in bare mode.\n",
      "2024-09-01 13:51:28.948 Thread 'MainThread': missing ScriptRunContext! This warning can be ignored when running in bare mode.\n",
      "2024-09-01 13:51:28.950 Thread 'MainThread': missing ScriptRunContext! This warning can be ignored when running in bare mode.\n",
      "2024-09-01 13:51:28.952 Thread 'MainThread': missing ScriptRunContext! This warning can be ignored when running in bare mode.\n",
      "2024-09-01 13:51:28.957 Thread 'MainThread': missing ScriptRunContext! This warning can be ignored when running in bare mode.\n",
      "2024-09-01 13:51:28.959 Thread 'MainThread': missing ScriptRunContext! This warning can be ignored when running in bare mode.\n",
      "2024-09-01 13:51:28.959 Thread 'MainThread': missing ScriptRunContext! This warning can be ignored when running in bare mode.\n",
      "2024-09-01 13:51:28.961 Thread 'MainThread': missing ScriptRunContext! This warning can be ignored when running in bare mode.\n",
      "2024-09-01 13:51:28.962 Thread 'MainThread': missing ScriptRunContext! This warning can be ignored when running in bare mode.\n",
      "2024-09-01 13:51:28.965 Thread 'MainThread': missing ScriptRunContext! This warning can be ignored when running in bare mode.\n",
      "2024-09-01 13:51:28.968 Thread 'MainThread': missing ScriptRunContext! This warning can be ignored when running in bare mode.\n"
     ]
    }
   ],
   "source": [
    "# Titre de l'application\n",
    "st.title(\"Prédiction avec votre modèle (Test avec SK_ID_CURR spécifique)\")\n",
    "\n",
    "# Définir le chemin absolu du modèle\n",
    "model_path = os.path.abspath(os.path.join(\"saved_model\", \"best_lgbmb_model.joblib\"))\n",
    "st.write(f\"Chargement du modèle depuis {model_path}\")\n",
    "\n",
    "# Charger le modèle\n",
    "try:\n",
    "    model = joblib.load(model_path)\n",
    "    st.write(\"Modèle chargé avec succès\")\n",
    "except FileNotFoundError:\n",
    "    st.error(f\"Le fichier {model_path} est introuvable. Veuillez vérifier le chemin du fichier.\")\n",
    "\n",
    "# Interface utilisateur pour entrer des données\n",
    "sk_id_curr = st.text_input(\"Entrez SK_ID_CURR\", \"100004\")  # Par défaut à 100004\n",
    "\n",
    "if st.button(\"Prédire\"):\n",
    "    # Charger vos données et faire une prédiction\n",
    "    df_path = os.path.abspath(os.path.join(\"saved_model\", \"df_train_smote_corrected_100rows_with_id.joblib\"))\n",
    "    st.write(f\"Chargement du DataFrame depuis {df_path}\")\n",
    "    try:\n",
    "        df = joblib.load(df_path)\n",
    "        st.write(\"DataFrame chargé avec succès\")\n",
    "        \n",
    "        if int(sk_id_curr) in df['SK_ID_CURR'].values:\n",
    "            sample = df[df['SK_ID_CURR'] == int(sk_id_curr)]\n",
    "\n",
    "            # Liste des colonnes attendues par le modèle\n",
    "            model_columns = model.booster_.feature_name()\n",
    "\n",
    "            # Afficher un aperçu des premières colonnes\n",
    "            st.write(\"Colonnes du DataFrame :\")\n",
    "            st.dataframe(sample.iloc[:, :10])  # Affiche les 10 premières colonnes\n",
    "\n",
    "            # Obtenir la probabilité prédite\n",
    "            prediction_proba = model.predict_proba(sample[model_columns])\n",
    "            probability = prediction_proba[0][1]  # Probabilité de la classe positive\n",
    "            st.write(f\"Probabilité prédite : {probability * 100:.2f}%\")\n",
    "        else:\n",
    "            st.write(f\"L'ID {sk_id_curr} n'existe pas dans le DataFrame.\")\n",
    "    \n",
    "    except FileNotFoundError:\n",
    "        st.error(f\"Le fichier {df_path} est introuvable. Veuillez vérifier le chemin du fichier.\")"
   ]
  },
  {
   "cell_type": "markdown",
   "id": "dc3c833e-addf-4a73-b468-08ae50fae85e",
   "metadata": {},
   "source": [
    "### <font color='RoyalBlue'> 3. Exécuter l'Application en Local"
   ]
  },
  {
   "cell_type": "markdown",
   "id": "666748b2-d949-4596-9417-c6da657363ba",
   "metadata": {},
   "source": [
    "**streamlit run app_local.py**\n",
    "*****\n",
    "***Essaie de saisir 100004 ou 100002 comme SK_ID_CURR***"
   ]
  },
  {
   "cell_type": "markdown",
   "id": "0b436382-a1a2-4e41-b8a4-64841cf613c6",
   "metadata": {},
   "source": [
    "### <font color='RoyalBlue'> 4. Test API en local avec API Flask"
   ]
  },
  {
   "cell_type": "code",
   "execution_count": 109,
   "id": "629b0e52-07be-42e8-b763-431a092d9576",
   "metadata": {},
   "outputs": [
    {
     "name": "stdout",
     "output_type": "stream",
     "text": [
      "Statut de la réponse : 200\n",
      "{'feature_names': ['Column_0', 'Column_1', 'Column_2', 'Column_3', 'Column_4', 'Column_5', 'Column_6', 'Column_7', 'Column_8', 'Column_9'], 'feature_values': [-0.1954256211947472, 0.717813511857255, -0.71740951853553, -0.6642391539220147, -0.5750549265883934, 0.2969115167370191, -0.2311222202629274, -0.371691309326604, -0.811258969882764, 0.1767918301208186], 'probability': 11.05, 'shap_values': [0.003955517956788203, -0.4085871507065908, -0.06607947025075532, -0.09171127557901478, -0.06122439880549777, -0.0072747781791684665, 0.03228563325666001, 0.013843880890944094, -0.027505460487406035, 0.06708550752839927]}\n"
     ]
    }
   ],
   "source": [
    "import requests\n",
    "\n",
    "# Définir l'URL de l'API\n",
    "url = \"http://192.168.0.103:5000/predict\"\n",
    "\n",
    "# Paramètres à envoyer dans l'URL\n",
    "params = {\n",
    "    \"SK_ID_CURR\": \"100004\" \n",
    "}\n",
    "\n",
    "# Faire une requête GET à l'API\n",
    "response = requests.get(url=url, params=params)\n",
    "\n",
    "# Vérifier le statut de la réponse\n",
    "print(f\"Statut de la réponse : {response.status_code}\")\n",
    "\n",
    "# Afficher la réponse de l'API\n",
    "if response.status_code == 200:\n",
    "    print(response.json())\n",
    "else:\n",
    "    print(f\"Erreur : {response.text}\")"
   ]
  },
  {
   "cell_type": "markdown",
   "id": "2f70ccfc-448b-4b79-b463-4fda75a21953",
   "metadata": {},
   "source": [
    "## <font color='Blue'>**Partie 2 : Création de l'Application Streamlit pour Déploiement en Ligne**"
   ]
  },
  {
   "cell_type": "markdown",
   "id": "ea38608b-81d4-4046-a443-b5048fe5b2ad",
   "metadata": {},
   "source": [
    "### <font color='RoyalBlue'> 1. Adapter le Code pour le Déploiement en Ligne"
   ]
  },
  {
   "cell_type": "markdown",
   "id": "20c4b80b-34f1-497d-b50c-750e7075566c",
   "metadata": {},
   "source": [
    "***D'abord nous créons un fichier Python, par exemple app_online.py, qui sera adapté pour fonctionner sur une plateforme comme Streamlit Cloud,ensuite nous Remplacons les chemins locaux par des chemins relatifs ou absolus en fonction de l'organisation du projet.***"
   ]
  },
  {
   "cell_type": "code",
   "execution_count": 78,
   "id": "c87465cd-7189-43f5-8636-81ae0a28dc52",
   "metadata": {},
   "outputs": [
    {
     "name": "stderr",
     "output_type": "stream",
     "text": [
      "2024-09-01 13:51:32.603 Thread 'MainThread': missing ScriptRunContext! This warning can be ignored when running in bare mode.\n",
      "2024-09-01 13:51:32.604 Thread 'MainThread': missing ScriptRunContext! This warning can be ignored when running in bare mode.\n",
      "2024-09-01 13:51:32.605 Thread 'MainThread': missing ScriptRunContext! This warning can be ignored when running in bare mode.\n",
      "2024-09-01 13:51:32.606 Thread 'MainThread': missing ScriptRunContext! This warning can be ignored when running in bare mode.\n",
      "2024-09-01 13:51:32.607 Thread 'MainThread': missing ScriptRunContext! This warning can be ignored when running in bare mode.\n",
      "2024-09-01 13:51:32.608 Thread 'MainThread': missing ScriptRunContext! This warning can be ignored when running in bare mode.\n",
      "2024-09-01 13:51:32.610 Thread 'MainThread': missing ScriptRunContext! This warning can be ignored when running in bare mode.\n",
      "2024-09-01 13:51:32.611 Thread 'MainThread': missing ScriptRunContext! This warning can be ignored when running in bare mode.\n"
     ]
    }
   ],
   "source": [
    "# Titre de l'application\n",
    "st.title(\"Prédiction avec votre modèle (En ligne)\")\n",
    "\n",
    "# Définir le chemin du modèle pour usage en ligne\n",
    "model_path = os.path.join(\"saved_model\", \"best_lgbmb_model.joblib\")\n",
    "st.write(f\"Chargement du modèle depuis {model_path}\")\n",
    "\n",
    "# Vérification de l'existence du fichier de modèle\n",
    "if not os.path.exists(model_path):\n",
    "    st.error(f\"Le fichier modèle {model_path} n'existe pas.\")\n",
    "else:\n",
    "    # Charger le modèle\n",
    "    model = joblib.load(model_path)\n",
    "    st.write(\"Modèle chargé avec succès\")\n",
    "\n",
    "    # Interface utilisateur pour entrer des données\n",
    "    sk_id_curr = st.text_input(\"Entrez SK_ID_CURR\")\n",
    "\n",
    "    if st.button(\"Prédire\"):\n",
    "        # Charger nos données et faire une prédiction\n",
    "        df_path = os.path.join(\"saved_model\", \"df_train_smote_corrected_100rows_with_id.joblib\")\n",
    "        st.write(f\"Chargement du DataFrame depuis {df_path}\")\n",
    "\n",
    "        # Vérification de l'existence du fichier DataFrame\n",
    "        if not os.path.exists(df_path):\n",
    "            st.error(f\"Le fichier DataFrame {df_path} n'existe pas.\")\n",
    "        else:\n",
    "            df = joblib.load(df_path)\n",
    "            st.write(\"DataFrame chargé avec succès\")\n",
    "\n",
    "            # Trouver l'échantillon correspondant au SK_ID_CURR\n",
    "            try:\n",
    "                sample = df[df['SK_ID_CURR'] == int(sk_id_curr)]\n",
    "            except ValueError:\n",
    "                st.error(\"Veuillez entrer un SK_ID_CURR valide.\")\n",
    "                sample = None\n",
    "\n",
    "            if sample is None or sample.empty:\n",
    "                st.write(f\"Aucun échantillon trouvé pour SK_ID_CURR: {sk_id_curr}\")\n",
    "            else:\n",
    "                # Liste des colonnes attendues par le modèle\n",
    "                model_columns = model.booster_.feature_name()\n",
    "\n",
    "                # Vérification que toutes les colonnes nécessaires sont présentes dans le DataFrame\n",
    "                missing_columns = [col for col in model_columns if col not in sample.columns]\n",
    "                if missing_columns:\n",
    "                    st.error(f\"Les colonnes suivantes sont manquantes dans le DataFrame: {missing_columns}\")\n",
    "                else:\n",
    "                    # Obtenir la probabilité prédite\n",
    "                    prediction_proba = model.predict_proba(sample[model_columns])\n",
    "                    probability = prediction_proba[0][1]  # Probabilité de la classe positive\n",
    "                    st.write(f\"Probabilité prédite : {probability * 100:.2f}%\")"
   ]
  },
  {
   "cell_type": "markdown",
   "id": "882c9716-1dbe-4651-85b5-c5e05213c048",
   "metadata": {},
   "source": [
    "### <font color='RoyalBlue'> 2. Déployer l'Application en Ligne"
   ]
  },
  {
   "cell_type": "markdown",
   "id": "08eb7d85-19c3-4615-9513-ef9674201b2e",
   "metadata": {},
   "source": [
    "- **Étape 1 : Pousser notre  code sur un dépôt GitHub public ou privé.**\n",
    "\n",
    "- **Étape 2 : Sur Streamlit Cloud, connectonssur notre compte GitHub.**\n",
    "\n",
    "- **Étape 3 : Choisissons notre dépôt et le fichier app_online.py.**\n",
    "\n",
    "- **Étape 4 : Déploieons l'application en suivant les instructions.**"
   ]
  },
  {
   "cell_type": "markdown",
   "id": "26f39db1-c6cd-46fc-924f-2b7f6147cc8d",
   "metadata": {},
   "source": [
    "### <font color='RoyalBlue'> 3. Accéder à l'Application en Ligne"
   ]
  },
  {
   "cell_type": "markdown",
   "id": "ad9a7326-d7ef-4846-bd42-3dc6fad93976",
   "metadata": {},
   "source": [
    "***Après déploiement, Streamlit nous fournira un lien vers l'application en ligne que nous pouvons le partager et l'utiliser pour la démonstration.***"
   ]
  },
  {
   "cell_type": "markdown",
   "id": "e12f7af9-3df1-44d1-8159-fde7cd9f7c0d",
   "metadata": {},
   "source": [
    "<font color='Blue'>**LIEN**\n",
    "- **[Accéder à l'application Streamlit](https://samiram-ux.streamlit.app)**\n",
    "******"
   ]
  },
  {
   "cell_type": "markdown",
   "id": "6582a568-e632-4b1c-b5eb-af9c0ec3f354",
   "metadata": {},
   "source": [
    "## <font color='Blue'>**Partie 3 : Tests et Validation**"
   ]
  },
  {
   "cell_type": "code",
   "execution_count": 105,
   "id": "fde7af02-0f12-4d2b-a198-4b7c47758f98",
   "metadata": {},
   "outputs": [
    {
     "name": "stdout",
     "output_type": "stream",
     "text": [
      "Status Code: 200\n",
      "Response Text: <!doctype html><html lang=\"en\"><head><meta charset=\"utf-8\"/><meta name=\"viewport\" content=\"width=device-width,initial-scale=1,shrink-to-fit=no,user-scalable=no\"/><meta name=\"theme-color\" content=\"#FFFFFF\"/><link id=\"favicon\" rel=\"icon\" href=\"/-/build/favicon.svg\"/><link id=\"alternate-favicon\" rel=\"alternate icon\" href=\"/-/build/favicon.ico\"/><link rel=\"mask-icon\" href=\"/-/build/favicon_safari_mask.png\" color=\"#FF2B2B\"/><link rel=\"apple-touch-icon\" href=\"/-/build/favicon_256.png\"/><link rel=\"manifest\" href=\"/-/build/manifest.json\"/><script>!function(e,t,a,n,g){e[n]=e[n]||[],e[n].push({\"gtm.start\":(new Date).getTime(),event:\"gtm.js\"});var m=t.getElementsByTagName(a)[0],r=t.createElement(a);r.async=!0,r.src=\"https://www.googletagmanager.com/gtm.js?id=GTM-52GRQSL\",m.parentNode.insertBefore(r,m)}(window,document,\"script\",\"dataLayer\")</script><script>!function(){var e=window.analytics=window.analytics||[];if(!e.initialize)if(e.invoked)window.console&&console.error&&console.error(\"Segment snippet included twice.\");else{e.invoked=!0,e.methods=[\"trackSubmit\",\"trackClick\",\"trackLink\",\"trackForm\",\"pageview\",\"identify\",\"reset\",\"group\",\"track\",\"ready\",\"alias\",\"debug\",\"page\",\"once\",\"off\",\"on\",\"addSourceMiddleware\",\"addIntegrationMiddleware\",\"setAnonymousId\",\"addDestinationMiddleware\"],e.factory=function(t){return function(){var n=Array.prototype.slice.call(arguments);return n.unshift(t),e.push(n),e}};for(var t=0;t<e.methods.length;t++){var n=e.methods[t];e[n]=e.factory(n)}e.load=function(t,n){var a=document.createElement(\"script\");a.type=\"text/javascript\",a.async=!0,a.src=\"https://cdn.segment.com/analytics.js/v1/\"+t+\"/analytics.min.js\";var r=document.getElementsByTagName(\"script\")[0];r.parentNode.insertBefore(a,r),e._loadOptions=n},e.SNIPPET_VERSION=\"4.13.1\",e.load(\"GI7vYWHNmWwHbyFjBrvL0jOBA1TpZOXC\")}}()</script><script defer=\"defer\" src=\"/-/build/static/js/main.a90de463.js\"></script><link href=\"/-/build/static/css/main.f63aa252.css\" rel=\"stylesheet\"></head><body><noscript>You need to enable JavaScript to run this app.</noscript><div id=\"root\"></div></body></html>\n"
     ]
    }
   ],
   "source": [
    "import requests\n",
    "\n",
    "url = \"https://samiram-ux.streamlit.app\"\n",
    "params = {\n",
    "    \"sk_id_curr\": 100004\n",
    "}\n",
    "\n",
    "response = requests.get(url, params=params)\n",
    "print(\"Status Code:\", response.status_code)\n",
    "print(\"Response Text:\", response.text)"
   ]
  },
  {
   "cell_type": "markdown",
   "id": "6a85cb29-6cca-440c-95df-faa7cc787f20",
   "metadata": {},
   "source": [
    "- **1. Test de l'Application en Local**\n",
    "*****\n",
    "- Vérifions que toutes les fonctionnalités de l'application fonctionnent comme attendu.\n",
    "Saisissons un SK_ID_CURR et assurons que la prédiction est retournée correctement.\n",
    "*****\n",
    "- **2. Test de l'Application en Ligne**\n",
    "*****\n",
    "- Accèdons à l'application via le lien fourni par Streamlit Cloud.\n",
    "- Répètons les mêmes tests que pour l'application locale pour vérifier que tout fonctionne.\n",
    "*****\n",
    "- **3. Sauvegarde des Fichiers**\n",
    "- Assurons-nous que les deux fichiers (app_local.py et app_online.py) sont bien organisés et documentés dans notre dépôt GitHub."
   ]
  },
  {
   "cell_type": "code",
   "execution_count": null,
   "id": "1c60b1ea-f27d-45ec-bf05-b49070c4c328",
   "metadata": {},
   "outputs": [],
   "source": []
  }
 ],
 "metadata": {
  "kernelspec": {
   "display_name": "Python 3 (ipykernel)",
   "language": "python",
   "name": "python3"
  },
  "language_info": {
   "codemirror_mode": {
    "name": "ipython",
    "version": 3
   },
   "file_extension": ".py",
   "mimetype": "text/x-python",
   "name": "python",
   "nbconvert_exporter": "python",
   "pygments_lexer": "ipython3",
   "version": "3.11.7"
  }
 },
 "nbformat": 4,
 "nbformat_minor": 5
}
